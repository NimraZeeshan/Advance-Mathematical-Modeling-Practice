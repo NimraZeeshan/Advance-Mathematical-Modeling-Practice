{
 "cells": [
  {
   "attachments": {
    "image.png": {
     "image/png": "[encoded data removed]"
    }
   },
   "cell_type": "markdown",
   "metadata": {},
   "source": [
    "An accelerometeris used in aircraft, rockets, and other vehicles to estimate the vehicleísvelocity  and  displacement.  The  accelerometer  integrates  the  acceleration  signal  to  pro-duce  an  estimate  of  the  velocity,  and  it  integrates  the  velocity  estimate  to  produce  anestimate of displacement. Suppose the vehicle starts from rest at time $t=0$, and its mea-sured acceleration is given in the following table:\n",
    "![image.png](attachment:image.png)\n",
    "\n",
    "\n",
    "(a) Estimate the velocity $v$ after 10 s.\n",
    "\n",
    "(b) Estimate the velocity at times $t$ 1, 2, . . . , 10 s.\n",
    "\n",
    "The initial velocity is zero, so v(0)=0. The relation between the velocity and acceleration $a(t)$ is\n",
    "\n"
   ]
  },
  {
   "cell_type": "code",
   "execution_count": 83,
   "metadata": {},
   "outputs": [],
   "source": [
    "import math\n",
    "import matplotlib.pyplot as plt\n",
    "import numpy as np\n",
    "# %config InlineBackend.figure_format = 'svg'\n",
    "# plt.rcParams['figure.figsize'] = (13, 8)\n",
    "# plt.rcParams.update({'font.size': 19})"
   ]
  },
  {
   "cell_type": "code",
   "execution_count": 116,
   "metadata": {},
   "outputs": [
    {
     "name": "stdout",
     "output_type": "stream",
     "text": [
      "[0. 0. 0. 0. 0. 0. 0. 0. 0. 0. 0.]\n",
      "v = 11\n",
      "a =  (11,)\n",
      "[ 0  2  4  7 11 17 24 32 41 48 51]\n",
      "a =  11\n",
      "a =  (11,)\n",
      "range(0, 11)\n",
      "t =  11\n",
      "area of right triangle: 0.0 \n",
      "area of right triangle: 1.0 \n",
      "area of right triangle: 4.0 \n",
      "t: 0 Velocity: 1.0\n",
      "t: 1 Velocity: 3.0\n",
      "t: 2 Velocity: 5.5\n",
      "t: 3 Velocity: 9.0\n",
      "t: 4 Velocity: 14.0\n",
      "t: 5 Velocity: 20.5\n",
      "t: 6 Velocity: 28.0\n",
      "t: 7 Velocity: 36.5\n",
      "t: 8 Velocity: 44.5\n",
      "t: 9 Velocity: 49.5\n"
     ]
    },
    {
     "ename": "IndexError",
     "evalue": "index 11 is out of bounds for axis 0 with size 11",
     "output_type": "error",
     "traceback": [
      "\u001b[1;31m---------------------------------------------------------------------------\u001b[0m",
      "\u001b[1;31mIndexError\u001b[0m                                Traceback (most recent call last)",
      "\u001b[1;32m~\\AppData\\Local\\Temp/ipykernel_3796/1591991568.py\u001b[0m in \u001b[0;36m<module>\u001b[1;34m\u001b[0m\n\u001b[0;32m     30\u001b[0m \u001b[1;33m\u001b[0m\u001b[0m\n\u001b[0;32m     31\u001b[0m \u001b[1;32mfor\u001b[0m \u001b[0mi\u001b[0m \u001b[1;32min\u001b[0m \u001b[0mt\u001b[0m\u001b[1;33m:\u001b[0m\u001b[1;33m\u001b[0m\u001b[1;33m\u001b[0m\u001b[0m\n\u001b[1;32m---> 32\u001b[1;33m     \u001b[0mv\u001b[0m\u001b[1;33m[\u001b[0m\u001b[0mi\u001b[0m\u001b[1;33m]\u001b[0m \u001b[1;33m=\u001b[0m \u001b[0mv\u001b[0m\u001b[1;33m[\u001b[0m\u001b[0mi\u001b[0m\u001b[1;33m]\u001b[0m\u001b[1;33m+\u001b[0m \u001b[1;36m0.5\u001b[0m\u001b[1;33m*\u001b[0m\u001b[1;33m(\u001b[0m\u001b[0ma\u001b[0m\u001b[1;33m[\u001b[0m\u001b[0mi\u001b[0m\u001b[1;33m]\u001b[0m\u001b[1;33m+\u001b[0m\u001b[0ma\u001b[0m\u001b[1;33m[\u001b[0m\u001b[0mi\u001b[0m\u001b[1;33m+\u001b[0m\u001b[1;36m1\u001b[0m\u001b[1;33m]\u001b[0m\u001b[1;33m)\u001b[0m\u001b[1;33m*\u001b[0m\u001b[1;33m(\u001b[0m\u001b[0mt\u001b[0m\u001b[1;33m[\u001b[0m\u001b[0mi\u001b[0m\u001b[1;33m+\u001b[0m\u001b[1;36m1\u001b[0m\u001b[1;33m]\u001b[0m\u001b[1;33m-\u001b[0m\u001b[0mt\u001b[0m\u001b[1;33m[\u001b[0m\u001b[0mi\u001b[0m\u001b[1;33m]\u001b[0m\u001b[1;33m)\u001b[0m\u001b[1;33m\u001b[0m\u001b[1;33m\u001b[0m\u001b[0m\n\u001b[0m\u001b[0;32m     33\u001b[0m     \u001b[1;31m# v[i] =  [t[i+1]]\u001b[0m\u001b[1;33m\u001b[0m\u001b[1;33m\u001b[0m\u001b[0m\n\u001b[0;32m     34\u001b[0m     \u001b[0mprint\u001b[0m\u001b[1;33m(\u001b[0m\u001b[1;34m\"t: {} Velocity: {}\"\u001b[0m\u001b[1;33m.\u001b[0m\u001b[0mformat\u001b[0m\u001b[1;33m(\u001b[0m\u001b[0mi\u001b[0m\u001b[1;33m,\u001b[0m\u001b[0mv\u001b[0m\u001b[1;33m[\u001b[0m\u001b[0mi\u001b[0m\u001b[1;33m]\u001b[0m\u001b[1;33m)\u001b[0m\u001b[1;33m)\u001b[0m\u001b[1;33m\u001b[0m\u001b[1;33m\u001b[0m\u001b[0m\n",
      "\u001b[1;31mIndexError\u001b[0m: index 11 is out of bounds for axis 0 with size 11"
     ]
    }
   ],
   "source": [
    "t_0 = 0 #s starting time\n",
    "N = 11 #s ending time\n",
    "v0 = 0\n",
    "v = np.zeros((N,))  #m/s Terminal velocity\n",
    "\n",
    "# v = np.array([ ])\n",
    "print(v )\n",
    "print(\"v =\", len(v))\n",
    "print(\"a = \", v.shape)\n",
    "\n",
    "a = np.array([0, 2 , 4 , 7 ,  11,  17,  24,  32,  41 , 48 , 51])\n",
    "print(a)\n",
    "print(\"a = \", len(a))\n",
    "print(\"a = \", a.shape)\n",
    "\n",
    "# t = int(np.linspace(0,10,10))\n",
    "t  = range(0,len(v+1))\n",
    "# (t_0,N)\n",
    "print(t)\n",
    "print(\"t = \",len(t))\n",
    "# print(\"a = \", t.shape)\n",
    "\n",
    "Area_of_Tiangle = 1/2*(t[0]*a[0])\n",
    "print(\"area of right triangle: {} \".format(Area_of_Tiangle))\n",
    "\n",
    "Area_of_Trapazieum = 1/2*(t[1]*a[1])*(t[1]-t[0])\n",
    "print(\"area of right triangle: {} \".format(Area_of_Trapazieum))\n",
    "Area_of_Trapazieum2 = 1/2*(t[2]*a[2])*(t[2]-t[1])\n",
    "print(\"area of right triangle: {} \".format(Area_of_Trapazieum2))\n",
    "\n",
    "for i in t:\n",
    "    v[i] = v[i]+ 0.5*(a[i]+a[i+1])*(t[i+1]-t[i])\n",
    "    # v[i] =  [t[i+1]]\n",
    "    print(\"t: {} Velocity: {}\".format(i,v[i]))\n",
    "\n",
    "plt.title(\"Accelerometer\")\n",
    "plt.plot(t,a, color=\"r\", linewidth=3, )\n",
    "plt.fill_between(t,a, where = [(t>=0) and (t<=N) for t in t], color=\"green\",  alpha=0.15)\n",
    "# plt.legend([\"mass= 68.1 Kg\", \"mass = 90 Kg\",\"c = 60\"])\n",
    "plt.plot(t, a, '-o', color='green')\n",
    "plt.xticks(np.arange(0,N,1))\n",
    "# plt.fill(t, a, color='C1', alpha=0.15)\n",
    "plt.vlines(t, 0,a, color='green', linestyle=':')\n",
    "plt.xlabel(\"Time [s]\")\n",
    "plt.ylabel(\"Accceleration [m/s^2]\")\n",
    "plt.grid()\n",
    "plt.show()"
   ]
  },
  {
   "cell_type": "markdown",
   "metadata": {},
   "source": []
  }
 ],
 "metadata": {
  "kernelspec": {
   "display_name": "Python 3",
   "language": "python",
   "name": "python3"
  },
  "language_info": {
   "codemirror_mode": {
    "name": "ipython",
    "version": 3
   },
   "file_extension": ".py",
   "mimetype": "text/x-python",
   "name": "python",
   "nbconvert_exporter": "python",
   "pygments_lexer": "ipython3",
   "version": "3.9.13"
  },
  "orig_nbformat": 4,
  "vscode": {
   "interpreter": {
    "hash": "42208b08c762be6baeba98900fd86a10b6e6f3aa10fbc3718e4804341ca786f7"
   }
  }
 },
 "nbformat": 4,
 "nbformat_minor": 2
}
