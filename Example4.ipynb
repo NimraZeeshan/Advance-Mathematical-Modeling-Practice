{
 "cells": [
  {
   "attachments": {},
   "cell_type": "markdown",
   "metadata": {},
   "source": [
    "#LINEAR REGRESSION (LINEAR CURVE FITTING)"
   ]
  },
  {
   "cell_type": "code",
   "execution_count": 174,
   "metadata": {},
   "outputs": [],
   "source": [
    "import numpy as np\n",
    "import matplotlib.pyplot as plt\n",
    "from sympy import symbols"
   ]
  },
  {
   "cell_type": "code",
   "execution_count": 239,
   "metadata": {},
   "outputs": [
    {
     "name": "stdout",
     "output_type": "stream",
     "text": [
      "value of cofficient a =  -0.9761238095238097\n",
      "value of cofficient b =  3.5621257142857137\n"
     ]
    },
    {
     "data": {
      "image/png": "[encoded data removed]",
      "text/plain": [
       "<Figure size 432x288 with 1 Axes>"
      ]
     },
     "metadata": {
      "needs_background": "light"
     },
     "output_type": "display_data"
    }
   ],
   "source": [
    "x = np.array([0, 0.5, 1.0,  1.5,  2.0,  2.5])\n",
    "# y =  np.array([0 , 1.5, 3.0, 4.5, 6.0, 7.5])\n",
    "y = np.array([-0.4326, -0.1656, 3.1253, 4.7877, 4.8535, 8.6909])\n",
    "n = 6\n",
    "a = sum(x)\n",
    "b = sum(y)\n",
    "c = sum(x**2)\n",
    "d = np.sum(np.multiply(x,y))\n",
    "\n",
    "A = np.array([[n ,a],[a,c]])\n",
    "B = np.array([b ,d])\n",
    "X = np.dot((np.linalg.inv(A)),B)\n",
    "\n",
    "print(\"value of cofficient a = \",X[0]) #x[1] = a\n",
    "print(\"value of cofficient b = \",X[1]) #x[0] = b\n",
    "\n",
    "Y = np.zeros(len(x))\n",
    "for i in range(0,len(x)):\n",
    "    Y[i] = X[1]*x[i]+X[0]    #y=ax+b\n",
    "    # print(Y[i])  #y for cruve fitting line\n",
    "\n",
    "plt.plot(x, y,'o')\n",
    "plt.plot(x, Y, \"red\",)\n",
    "plt.xlabel(r'$x$')\n",
    "plt.ylabel(r'$y$')\n",
    "plt.grid()\n",
    "plt.show()\n"
   ]
  },
  {
   "cell_type": "code",
   "execution_count": 253,
   "metadata": {},
   "outputs": [
    {
     "data": {
      "text/latex": [
       "$\\displaystyle 3.562 x^{2} - 0.976$"
      ],
      "text/plain": [
       "3.562*x**2 - 0.976"
      ]
     },
     "execution_count": 253,
     "metadata": {},
     "output_type": "execute_result"
    }
   ],
   "source": [
    "#y = ax^2+b\n",
    "x, y   = symbols(\"x y\")\n",
    "expr =  a*x**2  +b\n",
    "equ = expr.subs({a:round(X[1],3),b:round(X[0],3)})\n",
    "equ\n"
   ]
  },
  {
   "cell_type": "code",
   "execution_count": 267,
   "metadata": {},
   "outputs": [
    {
     "name": "stdout",
     "output_type": "stream",
     "text": [
      "              2        \n",
      "f(x) = 3.562⋅x  - 0.976\n"
     ]
    }
   ],
   "source": [
    "from sympy import Eq, symbols, pretty\n",
    "\n",
    "\n",
    "x, y = symbols(\"x y\")\n",
    "a, b = symbols(\"a b\")\n",
    "\n",
    "expr = a*x**2 + b\n",
    "equ = expr.subs({a: round(X[1], 3), b: round(X[0], 3)})\n",
    "\n",
    "f = Function('f')(x)\n",
    "equation = Eq(f, equ)\n",
    "\n",
    "pretty_equation = pretty(equation)\n",
    "print(pretty_equation)"
   ]
  },
  {
   "attachments": {},
   "cell_type": "markdown",
   "metadata": {},
   "source": [
    "#Fit a second order polynomial\n"
   ]
  },
  {
   "cell_type": "code",
   "execution_count": 270,
   "metadata": {},
   "outputs": [
    {
     "name": "stdout",
     "output_type": "stream",
     "text": [
      "value of cofficient a0 =  -0.18138571428572942\n",
      "value of cofficient a1 =  -0.3220885714285545\n",
      "value of cofficient a2 =  1.3536857142857157\n"
     ]
    },
    {
     "data": {
      "image/png": "[encoded data removed]",
      "text/plain": [
       "<Figure size 432x288 with 1 Axes>"
      ]
     },
     "metadata": {
      "needs_background": "light"
     },
     "output_type": "display_data"
    }
   ],
   "source": [
    "x = np.array([0, 0.5, 1.0,1.5,2.0,2.5])\n",
    "# y = np.array([0,0.25,1.0,2.25,4.0,6.25])\n",
    "y = np.array([0.0674, -0.9156, 1.6253, 3.0377, 3.3535, 7.9409])\n",
    "n = 6\n",
    "a = sum(x)\n",
    "b = sum(y)\n",
    "c = sum(x**2)\n",
    "d = sum(x**3)\n",
    "e = sum(x**4)\n",
    "f = np.sum(np.multiply(x,y))\n",
    "g = np.sum(np.multiply((x**2),y))\n",
    "\n",
    "\n",
    "#X=inv(A)*B\n",
    "A = np.array([[n, a , c], [a, c , d], [c , d , e]])\n",
    "B = np.array([b, f, g])\n",
    "X = np.dot(np.linalg.inv(A),B)\n",
    "\n",
    "\n",
    "print(\"value of cofficient a0 = \",X[0]) #x[1] = a0 ==c\n",
    "print(\"value of cofficient a1 = \",X[1]) #x[0] = a1 ==b\n",
    "print(\"value of cofficient a2 = \",X[2]) #x[0] = a2 =a\n",
    "Y = np.zeros(n)\n",
    "for i in range(0,n):\n",
    "    Y[i] = X[0]+ X[1]*x[i]+X[2]*(x[i]**2)\n",
    "    \n",
    "plt.plot(x, y,'o')\n",
    "plt.plot(x, Y, \"red\",)\n",
    "plt.xlabel(r'$x$')\n",
    "plt.ylabel(r'$y$')\n",
    "plt.grid()\n",
    "plt.show()\n",
    "\n"
   ]
  },
  {
   "cell_type": "code",
   "execution_count": 271,
   "metadata": {},
   "outputs": [
    {
     "data": {
      "image/png": "[encoded data removed]",
      "text/latex": [
       "$\\displaystyle 1.3537 x^{2} - 0.3221 x - 0.1814$"
      ],
      "text/plain": [
       "        2                    \n",
       "1.3537⋅x  - 0.3221⋅x - 0.1814"
      ]
     },
     "execution_count": 271,
     "metadata": {},
     "output_type": "execute_result"
    }
   ],
   "source": [
    "#y = ax^2+bx+c\n",
    "x, y   = symbols(\"x y\")\n",
    "expr = a*x**2 + b*x +c\n",
    "equ = expr.subs({a:round(X[2],4),b:round(X[1],4 ),c:round(X[0],4 )})\n",
    "equ"
   ]
  },
  {
   "cell_type": "code",
   "execution_count": null,
   "metadata": {},
   "outputs": [],
   "source": []
  }
 ],
 "metadata": {
  "kernelspec": {
   "display_name": "Python 3",
   "language": "python",
   "name": "python3"
  },
  "language_info": {
   "codemirror_mode": {
    "name": "ipython",
    "version": 3
   },
   "file_extension": ".py",
   "mimetype": "text/x-python",
   "name": "python",
   "nbconvert_exporter": "python",
   "pygments_lexer": "ipython3",
   "version": "3.9.13"
  },
  "orig_nbformat": 4,
  "vscode": {
   "interpreter": {
    "hash": "42208b08c762be6baeba98900fd86a10b6e6f3aa10fbc3718e4804341ca786f7"
   }
  }
 },
 "nbformat": 4,
 "nbformat_minor": 2
}
