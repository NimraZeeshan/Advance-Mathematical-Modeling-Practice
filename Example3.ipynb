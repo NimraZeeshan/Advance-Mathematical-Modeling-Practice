{
 "cells": [
  {
   "attachments": {},
   "cell_type": "markdown",
   "metadata": {},
   "source": [
    "<h1> Euler'S Method</h1>"
   ]
  }
 ],
 "metadata": {
  "kernelspec": {
   "display_name": "Python 3",
   "language": "python",
   "name": "python3"
  },
  "language_info": {
   "name": "python",
   "version": "3.9.13 (tags/v3.9.13:6de2ca5, May 17 2022, 16:36:42) [MSC v.1929 64 bit (AMD64)]"
  },
  "orig_nbformat": 4,
  "vscode": {
   "interpreter": {
    "hash": "42208b08c762be6baeba98900fd86a10b6e6f3aa10fbc3718e4804341ca786f7"
   }
  }
 },
 "nbformat": 4,
 "nbformat_minor": 2
}
