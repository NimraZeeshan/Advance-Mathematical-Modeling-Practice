{
 "cells": [
  {
   "attachments": {},
   "cell_type": "markdown",
   "metadata": {},
   "source": [
    "<h1> Euler'S Method</h1>"
   ]
  },
  {
   "cell_type": "code",
   "execution_count": 19,
   "metadata": {},
   "outputs": [
    {
     "data": {
      "image/png": "[encoded data removed]",
      "text/plain": [
       "<Figure size 432x288 with 1 Axes>"
      ]
     },
     "metadata": {
      "needs_background": "light"
     },
     "output_type": "display_data"
    }
   ],
   "source": [
    "import numpy as np\n",
    "import matplotlib.pyplot as plt\n",
    "from scipy.integrate import odeint\n",
    "\n",
    "def height(h, t):\n",
    "    hdot = -(0.0334 * np.sqrt(h)) / (10 * h - h**2)\n",
    "    return hdot\n",
    "\n",
    "t = np.linspace(0, 2475, 100000)\n",
    "h0 = 9\n",
    "h = odeint(height, h0, t)\n",
    "\n",
    "plt.plot(t, h,'o')\n",
    "plt.xlabel('Time (sec)')\n",
    "plt.ylabel('Height (ft)')\n",
    "plt.grid()\n",
    "plt.show()"
   ]
  }
 ],
 "metadata": {
  "kernelspec": {
   "display_name": "Python 3",
   "language": "python",
   "name": "python3"
  },
  "language_info": {
   "codemirror_mode": {
    "name": "ipython",
    "version": 3
   },
   "file_extension": ".py",
   "mimetype": "text/x-python",
   "name": "python",
   "nbconvert_exporter": "python",
   "pygments_lexer": "ipython3",
   "version": "3.9.13"
  },
  "orig_nbformat": 4,
  "vscode": {
   "interpreter": {
    "hash": "42208b08c762be6baeba98900fd86a10b6e6f3aa10fbc3718e4804341ca786f7"
   }
  }
 },
 "nbformat": 4,
 "nbformat_minor": 2
}
